{
 "cells": [
  {
   "cell_type": "markdown",
   "metadata": {},
   "source": [
    "# THE HANGMAN GAME"
   ]
  },
  {
   "cell_type": "code",
   "execution_count": 52,
   "metadata": {},
   "outputs": [],
   "source": [
    "#Importing libraries necessary for developing the interface\n",
    "from tkinter import *\n",
    "from tkinter.messagebox import *\n"
   ]
  },
  {
   "cell_type": "markdown",
   "metadata": {},
   "source": [
    "# The interface program"
   ]
  },
  {
   "cell_type": "code",
   "execution_count": 63,
   "metadata": {},
   "outputs": [],
   "source": [
    "top = Tk()\n",
    "\n",
    "#Lable interface\n",
    "var = StringVar()\n",
    "label = Label( top, text=\"HANGMAN\",fg=\"blue\",font=14 ).grid(row=0,column=1)\n",
    "\n",
    "#Method to randomly choose word from array of words\n",
    "def rand_sel():\n",
    "    vector_words=['3dhubs', 'marvin', 'print', 'filament', 'order', 'layer']\n",
    "    return random.choice(vector_words)\n",
    "chosen_word=rand_sel()\n",
    "\n",
    "#Button to select word randomly without displaying the selected word\n",
    "Button(top, text =\"1st: Select random word\", command = chosen_word,font=12,bg=\"blue\").grid(row=10, column=0, sticky=W, pady=4)\n",
    "\n",
    "\n",
    "#Entry field of first letter with its label\n",
    "L1 = Label(top, text=\"First letter here\",).grid(row=1)\n",
    "E1 = Entry(top, bd =5,fg=\"blue\",textvariable=StringVar(),font=12)\n",
    "E1.grid(row=1, column=1)\n",
    "\n",
    "#Entry field of second letter with its label\n",
    "L2 = Label(top, text=\"Second letter here\").grid(row=2)\n",
    "E2 = Entry(top, bd =5,fg=\"blue\",textvariable=StringVar(),font=12)\n",
    "E2.grid(row=2, column=1)\n",
    "\n",
    "#Entry field of third letter with its label\n",
    "L3 = Label(top, text=\"Third letter here\").grid(row=3)\n",
    "E3 = Entry(top, bd =5,fg=\"blue\",textvariable=StringVar(),font=12)\n",
    "E3.grid(row=3, column=1)\n",
    "\n",
    "#Entry field of fourth letter with its label\n",
    "L4 = Label(top, text=\"Fourth letter here\").grid(row=4)\n",
    "E4 = Entry(top, bd =5,fg=\"blue\",textvariable=StringVar(),font=12)\n",
    "E4.grid(row=4, column=1)\n",
    "\n",
    "#Entry field of fifth letter with its label\n",
    "L5 = Label(top, text=\"Fifth letter here\").grid(row=5)\n",
    "E5 = Entry(top, bd =5,fg=\"blue\",textvariable=StringVar(),font=12)\n",
    "E5.grid(row=5, column=1)\n",
    "\n",
    "#Method to extract letters from respective entry fields\n",
    "def get_letters():\n",
    "    return [E1.get(),E2.get(),E3.get(),E4.get(),E5.get()]\n",
    "\n",
    "#Method to return outcome of game as winner or looser\n",
    "def decide_winner():\n",
    "    #Rank is initialised as 1 (1st)\n",
    "    best_score=1\n",
    "    matched_vec=[]\n",
    "    for i in range(0,5):\n",
    "        select_letter=get_letters()[i]\n",
    "        display_word=''\n",
    "        for char in chosen_word:\n",
    "            if char==select_letter:\n",
    "                display_word+=select_letter\n",
    "                best_score=best_score+1\n",
    "            \n",
    "            else:\n",
    "                display_word+=' _ '\n",
    "        matched_vec.append(display_word)\n",
    "        \n",
    "        #Label for matched letters\n",
    "        Label_match1=Label(top,  text = \"Your matched letters are \" )\n",
    "        Label_match1.grid(row=9, column=1)\n",
    "        \n",
    "        #Display word matched positions of letters\n",
    "        Label_match2=Label(top,  text = matched_vec )\n",
    "        Label_match2.grid(row=9, column=2)\n",
    "\n",
    "            \n",
    "    \n",
    "    if best_score==1:\n",
    "        #Displaying winning rank of 1(1st)\n",
    "        Label_win=Label(top,  text = \"You win with a rank of \"+str(best_score) )\n",
    "        Label_win.grid(row=7, column=1)\n",
    "       \n",
    "    else:\n",
    "        #Displaying the loosing rank >1\n",
    "        Label_loss=Label(top,  text = \"You loose with a rank of \"+str(best_score))\n",
    "        Label_loss.grid(row=7, column=1)\n",
    "       \n",
    "    Label_RW=Label(top,  text = \"Random word was : \"+chosen_word )\n",
    "    Label_RW.grid(row=8, column=1)\n",
    "\n",
    "#Button to initiate extracting of letters from entry fields\n",
    "Get_Button=Button(top, text =\"2nd: Use letters\", command = get_letters,font=12,bg=\"blue\")\n",
    "Get_Button.grid(row=10, column=1, sticky=W, pady=4)\n",
    "\n",
    "#Button to display outcome of the game\n",
    "Decide_Button=Button(top, text =\"3rd: Outcome\", command = decide_winner,font=12,bg=\"blue\")\n",
    "Decide_Button.grid(row=10, column=2, sticky=W, pady=4)\n",
    "\n",
    "#Button to quit the game\n",
    "Quit_Button=Button(top, text='Quit', command=top.destroy,font=12,bg=\"red\")\n",
    "Quit_Button.grid(row=10, column=3, sticky=W, pady=4)\n",
    "\n",
    "\n",
    "top.mainloop()"
   ]
  },
  {
   "cell_type": "code",
   "execution_count": null,
   "metadata": {},
   "outputs": [],
   "source": []
  },
  {
   "cell_type": "code",
   "execution_count": null,
   "metadata": {},
   "outputs": [],
   "source": []
  },
  {
   "cell_type": "code",
   "execution_count": null,
   "metadata": {},
   "outputs": [],
   "source": []
  }
 ],
 "metadata": {
  "kernelspec": {
   "display_name": "Python 3",
   "language": "python",
   "name": "python3"
  },
  "language_info": {
   "codemirror_mode": {
    "name": "ipython",
    "version": 3
   },
   "file_extension": ".py",
   "mimetype": "text/x-python",
   "name": "python",
   "nbconvert_exporter": "python",
   "pygments_lexer": "ipython3",
   "version": "3.7.1"
  }
 },
 "nbformat": 4,
 "nbformat_minor": 2
}
